{
 "cells": [
  {
   "cell_type": "code",
   "execution_count": 2,
   "metadata": {},
   "outputs": [
    {
     "data": {
      "text/plain": [
       "'\\nAuthor:\\nCameron Smither, American Institutes for Research\\n\\nPurpose:\\nUse institution 3175\\'s student, progression, and cost data to attempt to build \\n\"Progression Profiles\" for CBE students using behavioral information (course\\nand cost). We will (attempt to) use cluster analysis to see what natural \\npatterns appear in enrollment data related to student outcomes with the \\nultimate goal of creating \"Profiles\" of students (or, a process to build them) \\nthat institutions could use to better understand and support their students.\\n\\nThis work will connect with the work of institutions using non-behavioral data\\n(e.g. students\\' intentions) to attempt to profile.\\n\\n\\nChange log:\\n#--------------------------------------------------------------------------------\\n# 2018-06-04.1 | CS | Initial file created\\n# 2018-07-25.2 | CS+TN | Finished data import syntax\\n# 2018-07.30/3 | CS+TN | Begin clustering \\n#--------------------------------------------------------------------------------\\n'"
      ]
     },
     "execution_count": 2,
     "metadata": {},
     "output_type": "execute_result"
    }
   ],
   "source": [
    "\"\"\"\n",
    "Author:\n",
    "Cameron Smither, American Institutes for Research\n",
    "\n",
    "Purpose:\n",
    "Use institution 3175's student, progression, and cost data to attempt to build \n",
    "\"Progression Profiles\" for CBE students using behavioral information (course\n",
    "and cost). We will (attempt to) use cluster analysis to see what natural \n",
    "patterns appear in enrollment data related to student outcomes with the \n",
    "ultimate goal of creating \"Profiles\" of students (or, a process to build them) \n",
    "that institutions could use to better understand and support their students.\n",
    "\n",
    "This work will connect with the work of institutions using non-behavioral data\n",
    "(e.g. students' intentions) to attempt to profile.\n",
    "\n",
    "\n",
    "Change log:\n",
    "#--------------------------------------------------------------------------------\n",
    "# 2018-06-04.1 | CS | Initial file created\n",
    "# 2018-07-25.2 | CS+TN | Finished data import syntax\n",
    "# 2018-07.30/3 | CS+TN | Begin clustering \n",
    "#--------------------------------------------------------------------------------\n",
    "\"\"\""
   ]
  },
  {
   "cell_type": "code",
   "execution_count": 110,
   "metadata": {},
   "outputs": [],
   "source": [
    "# Import needed modules\n",
    "import os\n",
    "import pandas as pd\n",
    "import numpy as np\n",
    "import sklearn as skl\n",
    "from sklearn.preprocessing import StandardScaler #For normalizing the sample data\n",
    "#Import the PCA (Principal Component Analysis) package for project it to a lower dimensional space\n",
    "from sklearn.decomposition import PCA \n",
    "import matplotlib.pyplot as plt #PyPlot for building scatterplots (+related style code)\n",
    "plt.style.use('seaborn-whitegrid')\n",
    "from sklearn.cluster import KMeans #Import the KMeans clustering module"
   ]
  },
  {
   "cell_type": "code",
   "execution_count": 4,
   "metadata": {},
   "outputs": [
    {
     "data": {
      "text/plain": [
       "'Z:\\\\Lumina - CBE Evaluation\\\\02 Data\\\\Analysis\\\\Capella-3175'"
      ]
     },
     "execution_count": 4,
     "metadata": {},
     "output_type": "execute_result"
    }
   ],
   "source": [
    "# Set up some global references that will be helpful throughout; update for subsequent institutions\n",
    "inst_id = \"3175\"\n",
    "inst_dir = 'Z:\\\\Lumina - CBE Evaluation\\\\02 Data\\\\Analysis\\\\Capella-3175'\n",
    "\n",
    "\n",
    "# Change dir to where inst's data are stored\n",
    "os.chdir(inst_dir)\n",
    "os.getcwd()\n",
    "#os.listdir()"
   ]
  },
  {
   "cell_type": "code",
   "execution_count": 46,
   "metadata": {},
   "outputs": [
    {
     "name": "stdout",
     "output_type": "stream",
     "text": [
      "Empty DataFrame\n",
      "Columns: [inst_id, stud_id, cohort, sex, myob, zip, forres_ind, raceth, prior_pse_amt, prior_pse_amttype, prior_pse_credential, start, mil_res_ae, vet_ae, ftft_flag, employed_ae, remed, pell_elig, pell_recip, debt_ae, unemploy, status, trnsfroutcbe, trnsfrincbe, z_sex, z_start, age, age_bin, z_forres, raceth_int, z_white, z_black, z_hisp, z_asian, z_2plus, z_missrace, z_orace, prior_pse_amt_bin, z_prior_cred, z_milres, z_vet, z_ftft, z_employed, z_remed, z_pelle, z_pellr, debt_ae_bin]\n",
      "Index: []\n",
      "\n",
      "[0 rows x 47 columns]\n",
      "Empty DataFrame\n",
      "Columns: [stud_id, cohort, zip, raceth, prior_pse_amt, start, debt_ae, z_sex, z_start, age, age_bin, z_forres, z_white, z_black, z_hisp, z_asian, z_2plus, z_missrace, z_orace, prior_pse_amt_bin, z_prior_cred, z_milres, z_vet, z_ftft, z_employed, z_remed, z_pelle, z_pellr]\n",
      "Index: []\n",
      "\n",
      "[0 rows x 28 columns]\n"
     ]
    }
   ],
   "source": [
    "## Prep inst's Student data\n",
    "stud_df = pd.read_stata(str(inst_dir+'\\\\Student\\\\'+inst_id+'_Student_v1_cap.dta'))\n",
    "\n",
    "# view data\n",
    "#stud_df.head()\n",
    "#stud_df.describe()\n",
    "print (stud_df[:0]) #view elements\n",
    "\n",
    "# Delete elements we don't want/need\n",
    "# BE CAREFUL WITH RACETH (Capella shared raceth as (string) numbers like we wanted, raceth_int not needed)\n",
    "stud_df.drop(columns=['inst_id', 'sex', 'myob', 'forres_ind', 'raceth_int', 'prior_pse_amttype', 'prior_pse_credential', \n",
    "                     'mil_res_ae', 'vet_ae', 'ftft_flag', 'employed_ae', 'remed', 'pell_elig', 'pell_recip',\n",
    "                     'debt_ae_bin', 'unemploy', 'status', 'trnsfroutcbe', 'trnsfrincbe'], inplace=True) \n",
    "\n",
    "print (stud_df[:0])"
   ]
  },
  {
   "cell_type": "code",
   "execution_count": 6,
   "metadata": {},
   "outputs": [
    {
     "name": "stdout",
     "output_type": "stream",
     "text": [
      "Empty DataFrame\n",
      "Columns: [stud_id, earned1, earned2, earned3, earned4, earned5, earned6, earned7, earned8, earned9, earned10, earned11, earned12, earned13, earned14, earned15, earned16, earned17, earned18, earned19, earned20, earned21, earned22, earned23, earned24]\n",
      "Index: []\n",
      "\n",
      "[0 rows x 25 columns]\n"
     ]
    }
   ],
   "source": [
    "## Prep inst's Progression data\n",
    "prog_df = pd.read_stata(str(inst_dir+'\\\\Analysis\\\\'+inst_id+'_progression_MASTER.dta'),)\n",
    "\n",
    "# view data\n",
    "#prog_df.head()\n",
    "#print (prog_df[:0]) #view elements\n",
    "\n",
    "# columns 0-6   (stud_id ... age) are student characteristics\n",
    "# columns 7-8   (retain*) are retention indicators\n",
    "# columns 9-18  (avail_p*) describe the number of attempted units, by period\n",
    "# columns 19-28 (earn_p*) describe the number of earned units, by period\n",
    "# columns 29-34 (prior_group ... tt_cred) reflect share of program completed in units at entry and time to milestone values\n",
    "# columns 35-44 (ratio_p*) describe the ratio of units earned vs attempted\n",
    "# columns 45-70 (p*) describe the running cumulative share of their program accumulated by+during that period\n",
    "# columns 71-93 (earned*) describe the share of their program accumulated in *each individual* period\n",
    "# columns 94-99 (ever_cred ... inst_id) some additional elements. Keep only ever_cred (completion flag) \n",
    "#               and ETC (elapsed time to credential)\n",
    "\n",
    "#print (prog_df.iloc[0:0,94:]) # view specific element names\n",
    "#prog_df['uniqueid'].value_counts() # check specific element values\n",
    "\n",
    "del_list = list(range(1,70)) + list(range(94,100))\n",
    "prog_df.drop(prog_df.columns[[del_list]], axis=1, inplace=True) #delete elements we don't want/need\n",
    "\n",
    "print (prog_df[:0]) #view elements\n"
   ]
  },
  {
   "cell_type": "code",
   "execution_count": 7,
   "metadata": {},
   "outputs": [
    {
     "name": "stdout",
     "output_type": "stream",
     "text": [
      "Empty DataFrame\n",
      "Columns: [stud_id, pct_charges_grants, pct_charges_loans, pct_charges_unknown]\n",
      "Index: []\n"
     ]
    }
   ],
   "source": [
    "## Prep inst's Cost data\n",
    "cost_df = pd.read_stata(str(inst_dir+'\\\\Analysis\\Cost analyses\\\\cost_calculated.dta'),)\n",
    "\n",
    "# view data\n",
    "#cost_df.head()\n",
    "\n",
    "keep_list = ['stud_id', 'pct_charges_grants', 'pct_charges_loans', 'pct_charges_unknown']\n",
    "cost_df = cost_df[keep_list] #keep only elements we want/need\n",
    "\n",
    "print (cost_df[:0]) #view elements"
   ]
  },
  {
   "cell_type": "code",
   "execution_count": 143,
   "metadata": {},
   "outputs": [
    {
     "name": "stdout",
     "output_type": "stream",
     "text": [
      "Empty DataFrame\n",
      "Columns: [stud_id, cohort, zip, raceth, prior_pse_amt, start, debt_ae, z_sex, z_start, age, age_bin, z_forres, z_white, z_black, z_hisp, z_asian, z_2plus, z_missrace, z_orace, prior_pse_amt_bin, z_prior_cred, z_milres, z_vet, z_ftft, z_employed, z_remed, z_pelle, z_pellr, earned1, earned2, earned3, earned4, earned5, earned6, earned7, earned8, earned9, earned10, earned11, earned12, earned13, earned14, earned15, earned16, earned17, earned18, earned19, earned20, earned21, earned22, earned23, earned24, pct_charges_grants, pct_charges_loans, pct_charges_unknown]\n",
      "Index: []\n",
      "\n",
      "[0 rows x 55 columns]\n"
     ]
    }
   ],
   "source": [
    "## Create a master df\n",
    "# Student + progression\n",
    "master_df = stud_df.set_index('stud_id').join(prog_df.set_index('stud_id'))\n",
    "\n",
    "# (Student + progression) + cost\n",
    "master_df = master_df.join(cost_df.set_index('stud_id'))\n",
    "\n",
    "# change the index from stud_id to just a normal index\n",
    "master_df.index.name = 'stud_id'\n",
    "master_df.reset_index(inplace=True)\n",
    "\n",
    "print (master_df[:0]) #view elements\n",
    "#master_df['cohort']"
   ]
  },
  {
   "cell_type": "code",
   "execution_count": 149,
   "metadata": {},
   "outputs": [
    {
     "data": {
      "text/plain": [
       "<matplotlib.axes._subplots.AxesSubplot at 0xeabe588>"
      ]
     },
     "execution_count": 149,
     "metadata": {},
     "output_type": "execute_result"
    },
    {
     "data": {
      "image/png": "[encoded data removed]",
      "text/plain": [
       "<Figure size 432x288 with 1 Axes>"
      ]
     },
     "metadata": {},
     "output_type": "display_data"
    }
   ],
   "source": [
    "## SCI-KIT ATTEMPTS\n",
    "# First pull a sample of the observations\n",
    "keep_vars = ['stud_id', 'cohort', 'prior_pse_amt', 'z_sex', 'age', 'z_vet', 'z_pellr']\n",
    "sample_df_raw = master_df[keep_vars].sample(frac=.5)\n",
    "\n",
    "# Reset sample index for proper sorting\n",
    "sample_df_raw.reset_index(inplace=True)\n",
    "\n",
    "# Normalize in advance so we can PCA accurately\n",
    "norm_vars = ['prior_pse_amt', 'z_sex', 'age', 'z_vet', 'z_pellr']\n",
    "sample_df_std = sample_df_raw[norm_vars]\n",
    "sample_df_std =  (sample_df_std - sample_df_std.mean()) / (sample_df_std.max() - sample_df_std.min())\n",
    "sample_df_std.head()\n",
    "\n",
    "# Conduct PCA (principcal components analysis) to \n",
    "pca = PCA(n_components=2)\n",
    "pca_data = pca.fit_transform(sample_df_std)\n",
    "pca_df = pd.DataFrame(data = pca_data, columns = ['PC1', 'PC2'])\n",
    "\n",
    "# Combine PCA data and the stud_id value\n",
    "sample_pca_df = sample_df_raw[['stud_id', 'cohort']].join(pca_df)\n",
    "\n",
    "colors = np.where(sample_pca_df[\"cohort\"]=='Comp1','r','-')\n",
    "colors[sample_pca_df[\"cohort\"]=='Comp2'] = 'r'\n",
    "colors[sample_pca_df[\"cohort\"]=='CBE1'] = 'b'\n",
    "colors[sample_pca_df[\"cohort\"]=='CBE2'] = 'b'\n",
    "\n",
    "sample_pca_df.plot.scatter(x='PC1',y='PC2', c=colors)"
   ]
  },
  {
   "cell_type": "code",
   "execution_count": 174,
   "metadata": {},
   "outputs": [
    {
     "data": {
      "text/html": [
       "<div>\n",
       "<style scoped>\n",
       "    .dataframe tbody tr th:only-of-type {\n",
       "        vertical-align: middle;\n",
       "    }\n",
       "\n",
       "    .dataframe tbody tr th {\n",
       "        vertical-align: top;\n",
       "    }\n",
       "\n",
       "    .dataframe thead th {\n",
       "        text-align: right;\n",
       "    }\n",
       "</style>\n",
       "<table border=\"1\" class=\"dataframe\">\n",
       "  <thead>\n",
       "    <tr style=\"text-align: right;\">\n",
       "      <th></th>\n",
       "      <th>stud_id</th>\n",
       "      <th>cohort</th>\n",
       "      <th>PC1</th>\n",
       "      <th>PC2</th>\n",
       "      <th>cluster</th>\n",
       "    </tr>\n",
       "  </thead>\n",
       "  <tbody>\n",
       "    <tr>\n",
       "      <th>0</th>\n",
       "      <td>Comp2_6746036</td>\n",
       "      <td>Comp2</td>\n",
       "      <td>0.487517</td>\n",
       "      <td>-0.359009</td>\n",
       "      <td>1</td>\n",
       "    </tr>\n",
       "    <tr>\n",
       "      <th>1</th>\n",
       "      <td>Comp1_6947387</td>\n",
       "      <td>Comp1</td>\n",
       "      <td>0.367566</td>\n",
       "      <td>-0.276330</td>\n",
       "      <td>1</td>\n",
       "    </tr>\n",
       "    <tr>\n",
       "      <th>2</th>\n",
       "      <td>Comp2_7279970</td>\n",
       "      <td>Comp2</td>\n",
       "      <td>-0.478372</td>\n",
       "      <td>-0.241804</td>\n",
       "      <td>0</td>\n",
       "    </tr>\n",
       "    <tr>\n",
       "      <th>3</th>\n",
       "      <td>Comp2_6698770</td>\n",
       "      <td>Comp2</td>\n",
       "      <td>0.448988</td>\n",
       "      <td>-0.335386</td>\n",
       "      <td>1</td>\n",
       "    </tr>\n",
       "    <tr>\n",
       "      <th>4</th>\n",
       "      <td>Comp1_7111187</td>\n",
       "      <td>Comp1</td>\n",
       "      <td>-0.573231</td>\n",
       "      <td>-0.173039</td>\n",
       "      <td>0</td>\n",
       "    </tr>\n",
       "  </tbody>\n",
       "</table>\n",
       "</div>"
      ],
      "text/plain": [
       "         stud_id cohort       PC1       PC2  cluster\n",
       "0  Comp2_6746036  Comp2  0.487517 -0.359009        1\n",
       "1  Comp1_6947387  Comp1  0.367566 -0.276330        1\n",
       "2  Comp2_7279970  Comp2 -0.478372 -0.241804        0\n",
       "3  Comp2_6698770  Comp2  0.448988 -0.335386        1\n",
       "4  Comp1_7111187  Comp1 -0.573231 -0.173039        0"
      ]
     },
     "execution_count": 174,
     "metadata": {},
     "output_type": "execute_result"
    }
   ],
   "source": [
    "# Start with student characteristics first\n",
    "kmeans1 = KMeans(n_clusters=2, init='random', algorithm='auto').fit(sample_df_std)\n",
    "kmeans1.labels_\n",
    "kmeans1.cluster_centers_\n",
    "\n",
    "# Does KMeans keep the order of the observations the same????????????????????????????????????????????\n",
    "kmeans_results = kmeans1.predict(sample_df_std)\n",
    "kmeans_results = pd.DataFrame(data=kmeans_results, columns=['cluster'])\n",
    "\n",
    "# Combine kmeans_results and the PCA data\n",
    "final_df = sample_pca_df.join(kmeans_results)\n",
    "\n",
    "final_df.head()"
   ]
  },
  {
   "cell_type": "code",
   "execution_count": 176,
   "metadata": {},
   "outputs": [
    {
     "data": {
      "text/plain": [
       "<matplotlib.axes._subplots.AxesSubplot at 0xeb02c18>"
      ]
     },
     "execution_count": 176,
     "metadata": {},
     "output_type": "execute_result"
    },
    {
     "data": {
      "image/png": "[encoded data removed]",
      "text/plain": [
       "<Figure size 432x288 with 1 Axes>"
      ]
     },
     "metadata": {},
     "output_type": "display_data"
    }
   ],
   "source": [
    "#Visualize using the PCA data!\n",
    "colors_fin = np.where(final_df['cluster']==0,'r','-')\n",
    "colors_fin[final_df['cluster']==1] = 'b'\n",
    "\n",
    "final_df.plot.scatter(x='PC1',y='PC2', c=colors_fin)"
   ]
  }
 ],
 "metadata": {
  "celltoolbar": "Raw Cell Format",
  "kernelspec": {
   "display_name": "Python 3",
   "language": "python",
   "name": "python3"
  },
  "language_info": {
   "codemirror_mode": {
    "name": "ipython",
    "version": 3
   },
   "file_extension": ".py",
   "mimetype": "text/x-python",
   "name": "python",
   "nbconvert_exporter": "python",
   "pygments_lexer": "ipython3",
   "version": "3.6.5"
  }
 },
 "nbformat": 4,
 "nbformat_minor": 2
}
