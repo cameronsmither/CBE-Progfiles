{
 "cells": [
  {
   "cell_type": "code",
   "execution_count": 1,
   "metadata": {},
   "outputs": [
    {
     "data": {
      "text/plain": [
       "'\\nAuthor:\\nCameron Smither, American Institutes for Research\\n\\nPurpose:\\nUse institution 3175\\'s student, progression, and cost data to attempt to build \\n\"Progression Profiles\" for CBE students using behavioral information (course\\nand cost). We will (attempt to) use cluster analysis to see what natural \\npatterns appear in enrollment data related to student outcomes with the \\nultimate goal of creating \"Profiles\" of students (or, a process to build them) \\nthat institutions could use to better understand and support their students.\\n\\nThis work will connect with the work of institutions using non-behavioral data\\n(e.g. students\\' intentions) to attempt to profile.\\n\\n\\nChange log:\\n#--------------------------------------------------------------------------------\\n# 2018-06-04.1 | CS | Initial file created\\n#--------------------------------------------------------------------------------\\n'"
      ]
     },
     "execution_count": 1,
     "metadata": {},
     "output_type": "execute_result"
    }
   ],
   "source": [
    "\"\"\"\n",
    "Author:\n",
    "Cameron Smither, American Institutes for Research\n",
    "\n",
    "Purpose:\n",
    "Use institution 3175's student, progression, and cost data to attempt to build \n",
    "\"Progression Profiles\" for CBE students using behavioral information (course\n",
    "and cost). We will (attempt to) use cluster analysis to see what natural \n",
    "patterns appear in enrollment data related to student outcomes with the \n",
    "ultimate goal of creating \"Profiles\" of students (or, a process to build them) \n",
    "that institutions could use to better understand and support their students.\n",
    "\n",
    "This work will connect with the work of institutions using non-behavioral data\n",
    "(e.g. students' intentions) to attempt to profile.\n",
    "\n",
    "\n",
    "Change log:\n",
    "#--------------------------------------------------------------------------------\n",
    "# 2018-06-04.1 | CS | Initial file created\n",
    "#--------------------------------------------------------------------------------\n",
    "\"\"\""
   ]
  },
  {
   "cell_type": "code",
   "execution_count": 85,
   "metadata": {},
   "outputs": [],
   "source": [
    "# Import needed modules\n",
    "import os\n",
    "import pandas as pd\n",
    "import numpy as np\n",
    "import sklearn as skl"
   ]
  },
  {
   "cell_type": "code",
   "execution_count": 3,
   "metadata": {},
   "outputs": [
    {
     "data": {
      "text/plain": [
       "'Z:\\\\Lumina - CBE Evaluation\\\\02 Data\\\\Analysis\\\\Capella-3175'"
      ]
     },
     "execution_count": 3,
     "metadata": {},
     "output_type": "execute_result"
    }
   ],
   "source": [
    "# Set up some global references that will be helpful throughout; update for subsequent institutions\n",
    "inst_id = \"3175\"\n",
    "inst_dir = 'Z:\\\\Lumina - CBE Evaluation\\\\02 Data\\\\Analysis\\\\Capella-3175'\n",
    "\n",
    "\n",
    "# Change dir to where inst's data are stored\n",
    "os.chdir(inst_dir)\n",
    "os.getcwd()\n",
    "#os.listdir()"
   ]
  },
  {
   "cell_type": "code",
   "execution_count": 40,
   "metadata": {},
   "outputs": [
    {
     "name": "stdout",
     "output_type": "stream",
     "text": [
      "Empty DataFrame\n",
      "Columns: [inst_id, stud_id, cohort, sex, myob, zip, forres_ind, raceth, prior_pse_amt, prior_pse_amttype, prior_pse_credential, start, mil_res_ae, vet_ae, ftft_flag, employed_ae, remed, pell_elig, pell_recip, debt_ae, unemploy, status, trnsfroutcbe, trnsfrincbe, z_sex, z_start, age, age_bin, z_forres, raceth_int, z_white, z_black, z_hisp, z_asian, z_2plus, z_missrace, z_orace, prior_pse_amt_bin, z_prior_cred, z_milres, z_vet, z_ftft, z_employed, z_remed, z_pelle, z_pellr, debt_ae_bin]\n",
      "Index: []\n",
      "\n",
      "[0 rows x 47 columns]\n",
      "Empty DataFrame\n",
      "Columns: [stud_id, cohort, zip, prior_pse_amt, start, z_sex, z_start, age, age_bin, z_forres, raceth_int, z_white, z_black, z_hisp, z_asian, z_2plus, z_missrace, z_orace, prior_pse_amt_bin, z_prior_cred, z_milres, z_vet, z_ftft, z_employed, z_remed, z_pelle, z_pellr, debt_ae_bin]\n",
      "Index: []\n",
      "\n",
      "[0 rows x 28 columns]\n"
     ]
    }
   ],
   "source": [
    "## Prep inst's Student data\n",
    "stud_df = pd.read_stata(str(inst_dir+'\\\\Student\\\\'+inst_id+'_Student_v1_cap.dta'))\n",
    "\n",
    "# view data\n",
    "#stud_df.head()\n",
    "#stud_df.describe()\n",
    "print (stud_df[:0]) #view elements\n",
    "\n",
    "# Delete elements we don't want/need\n",
    "# BE CAREFUL WITH RACETH (Capella shared raceth as numbers like we wanted, raceth_int not needed)\n",
    "stud_df.drop(columns=['inst_id', 'sex', 'myob', 'forres_ind', 'raceth', 'prior_pse_amttype', 'prior_pse_credential', \n",
    "                     'mil_res_ae', 'vet_ae', 'ftft_flag', 'employed_ae', 'remed', 'pell_elig', 'pell_recip',\n",
    "                     'debt_ae', 'unemploy', 'status', 'trnsfroutcbe', 'trnsfrincbe'], inplace=True) \n",
    "\n",
    "print (stud_df[:0])"
   ]
  },
  {
   "cell_type": "code",
   "execution_count": 63,
   "metadata": {},
   "outputs": [
    {
     "name": "stdout",
     "output_type": "stream",
     "text": [
      "Empty DataFrame\n",
      "Columns: [stud_id, earned1, earned2, earned3, earned4, earned5, earned6, earned7, earned8, earned9, earned10, earned11, earned12, earned13, earned14, earned15, earned16, earned17, earned18, earned19, earned20, earned21, earned22, earned23, earned24]\n",
      "Index: []\n",
      "\n",
      "[0 rows x 25 columns]\n"
     ]
    }
   ],
   "source": [
    "## Prep inst's Progression data\n",
    "prog_df = pd.read_stata(str(inst_dir+'\\\\Analysis\\\\'+inst_id+'_progression_MASTER.dta'),)\n",
    "\n",
    "# view data\n",
    "#prog_df.head()\n",
    "#print (prog_df[:0]) #view elements\n",
    "\n",
    "# columns 0-6   (stud_id ... age) are student characteristics\n",
    "# columns 7-8   (retain*) are retention indicators\n",
    "# columns 9-18  (avail_p*) describe the number of attempted units, by period\n",
    "# columns 19-28 (earn_p*) describe the number of earned units, by period\n",
    "# columns 29-34 (prior_group ... tt_cred) reflect share of program completed in units at entry and time to milestone values\n",
    "# columns 35-44 (ratio_p*) describe the ratio of units earned vs attempted\n",
    "# columns 45-70 (p*) describe the running cumulative share of their program accumulated by+during that period\n",
    "# columns 71-93 (earned*) describe the share of their program accumulated in *each individual* period\n",
    "# columns 94-99 (ever_cred ... inst_id) some additional elements. Keep only ever_cred (completion flag) \n",
    "#               and ETC (elapsed time to credential)\n",
    "\n",
    "#print (prog_df.iloc[0:0,94:]) # view specific element names\n",
    "#prog_df['uniqueid'].value_counts() # check specific element values\n",
    "\n",
    "del_list = list(range(1,70)) + list(range(94,100))\n",
    "prog_df.drop(prog_df.columns[[del_list]], axis=1, inplace=True) #delete elements we don't want/need\n",
    "\n",
    "print (prog_df[:0]) #view elements\n"
   ]
  },
  {
   "cell_type": "code",
   "execution_count": 66,
   "metadata": {},
   "outputs": [
    {
     "name": "stdout",
     "output_type": "stream",
     "text": [
      "Empty DataFrame\n",
      "Columns: [stud_id, pct_charges_grants, pct_charges_loans, pct_charges_unknown]\n",
      "Index: []\n"
     ]
    }
   ],
   "source": [
    "## Prep inst's Cost data\n",
    "cost_df = pd.read_stata(str(inst_dir+'\\\\Analysis\\Cost analyses\\\\cost_calculated.dta'),)\n",
    "\n",
    "# view data\n",
    "#cost_df.head()\n",
    "\n",
    "keep_list = ['stud_id', 'pct_charges_grants', 'pct_charges_loans', 'pct_charges_unknown']\n",
    "cost_df = cost_df[keep_list] #keep only elements we want/need\n",
    "\n",
    "print (cost_df[:0]) #view elements"
   ]
  },
  {
   "cell_type": "code",
   "execution_count": 80,
   "metadata": {},
   "outputs": [
    {
     "name": "stdout",
     "output_type": "stream",
     "text": [
      "Empty DataFrame\n",
      "Columns: [cohort, zip, prior_pse_amt, start, z_sex, z_start, age, age_bin, z_forres, raceth_int, z_white, z_black, z_hisp, z_asian, z_2plus, z_missrace, z_orace, prior_pse_amt_bin, z_prior_cred, z_milres, z_vet, z_ftft, z_employed, z_remed, z_pelle, z_pellr, debt_ae_bin, earned1, earned2, earned3, earned4, earned5, earned6, earned7, earned8, earned9, earned10, earned11, earned12, earned13, earned14, earned15, earned16, earned17, earned18, earned19, earned20, earned21, earned22, earned23, earned24, pct_charges_grants, pct_charges_loans, pct_charges_unknown]\n",
      "Index: []\n",
      "\n",
      "[0 rows x 54 columns]\n"
     ]
    }
   ],
   "source": [
    "## Create a master df\n",
    "# Student + progression\n",
    "master_df = stud_df.set_index('stud_id').join(prog_df.set_index('stud_id'))\n",
    "\n",
    "# (Student + progression) + cost\n",
    "master_df = master_df.join(cost_df.set_index('stud_id'))\n",
    "\n",
    "print (master_df[:0]) #view elements"
   ]
  },
  {
   "cell_type": "code",
   "execution_count": null,
   "metadata": {},
   "outputs": [],
   "source": [
    "## SCI-KIT ATTEMPTS"
   ]
  }
 ],
 "metadata": {
  "celltoolbar": "Raw Cell Format",
  "kernelspec": {
   "display_name": "Python 3",
   "language": "python",
   "name": "python3"
  },
  "language_info": {
   "codemirror_mode": {
    "name": "ipython",
    "version": 3
   },
   "file_extension": ".py",
   "mimetype": "text/x-python",
   "name": "python",
   "nbconvert_exporter": "python",
   "pygments_lexer": "ipython3",
   "version": "3.6.5"
  }
 },
 "nbformat": 4,
 "nbformat_minor": 2
}
